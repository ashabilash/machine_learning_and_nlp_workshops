{
 "cells": [
  {
   "cell_type": "code",
   "execution_count": null,
   "id": "e8286c0b-a233-4cda-86e9-45beaea591c0",
   "metadata": {},
   "outputs": [],
   "source": []
  },
  {
   "cell_type": "markdown",
   "id": "100afaa8-4bc0-4f7b-9c9e-61e77837df9c",
   "metadata": {
    "id": "bW7XWzh7xA0O",
    "tags": []
   },
   "source": [
    "# Understanding Data Types in Python"
   ]
  },
  {
   "cell_type": "markdown",
   "id": "e4827a2a-57b4-4484-b5ba-5ba17fd88330",
   "metadata": {
    "id": "P0FUcKLSxA0O"
   },
   "source": [
    "Effective data-driven science and computation requires understanding how data is stored and manipulated.\n",
    "This section outlines and contrasts how arrays of data are handled in the Python language itself, and how NumPy improves on this.\n",
    "Understanding this difference is fundamental to understanding much of the material throughout the rest of the book.\n",
    "\n",
    "Users of Python are often drawn-in by its ease of use, one piece of which is dynamic typing.\n",
    "While a statically-typed language like C or Java requires each variable to be explicitly declared, a dynamically-typed language like Python skips this specification. For example, in C you might specify a particular operation as follows:\n",
    "\n",
    "```C\n",
    "/* C code */\n",
    "int result = 0;\n",
    "for(int i=0; i<100; i++){\n",
    "    result += i;\n",
    "}\n",
    "```\n",
    "\n",
    "While in Python the equivalent operation could be written this way:\n",
    "\n",
    "```python\n",
    "# Python code\n",
    "result = 0\n",
    "for i in range(100):\n",
    "    result += i\n",
    "```\n",
    "\n",
    "Notice the main difference: in C, the data types of each variable are explicitly declared, while in Python the types are dynamically inferred. This means, for example, that we can assign any kind of data to any variable:\n",
    "\n",
    "```python\n",
    "# Python code\n",
    "x = 4\n",
    "x = \"four\"\n",
    "```\n",
    "\n",
    "Here we've switched the contents of ``x`` from an integer to a string. The same thing in C would lead (depending on compiler settings) to a compilation error or other unintented consequences:\n",
    "\n",
    "```C\n",
    "/* C code */\n",
    "int x = 4;\n",
    "x = \"four\";  // FAILS\n",
    "```\n",
    "\n",
    "This sort of flexibility is one piece that makes Python and other dynamically-typed languages convenient and easy to use.\n",
    "Understanding *how* this works is an important piece of learning to analyze data efficiently and effectively with Python.\n",
    "But what this type-flexibility also points to is the fact that Python variables are more than just their value; they also contain extra information about the type of the value. We'll explore this more in the sections that follow."
   ]
  },
  {
   "cell_type": "markdown",
   "id": "adccd280-d0ee-474e-b1ba-4defb9ad05d3",
   "metadata": {
    "id": "l_XIlGQlxA0Q"
   },
   "source": [
    "## A Python Integer Is More Than Just an Integer\n",
    "\n",
    "The standard Python implementation is written in C.\n",
    "This means that every Python object is simply a cleverly-disguised C structure, which contains not only its value, but other information as well. For example, when we define an integer in Python, such as ``x = 10000``, ``x`` is not just a \"raw\" integer. It's actually a pointer to a compound C structure, which contains several values.\n",
    "Looking through the Python 3.4 source code, we find that the integer (long) type definition effectively looks like this (once the C macros are expanded):\n",
    "\n",
    "```C\n",
    "struct _longobject {\n",
    "    long ob_refcnt;\n",
    "    PyTypeObject *ob_type;\n",
    "    size_t ob_size;\n",
    "    long ob_digit[1];\n",
    "};\n",
    "```\n",
    "\n",
    "A single integer in Python 3.4 actually contains four pieces:\n",
    "\n",
    "- ``ob_refcnt``, a reference count that helps Python silently handle memory allocation and deallocation\n",
    "- ``ob_type``, which encodes the type of the variable\n",
    "- ``ob_size``, which specifies the size of the following data members\n",
    "- ``ob_digit``, which contains the actual integer value that we expect the Python variable to represent.\n",
    "\n",
    "This means that there is some overhead in storing an integer in Python as compared to an integer in a compiled language like C, as illustrated in the following figure:"
   ]
  },
  {
   "cell_type": "markdown",
   "id": "a1b9df23-3e45-4bc2-8ce1-c3df1416dcb7",
   "metadata": {
    "id": "PMGZb_WBxA0R"
   },
   "source": [
    "![Integer Memory Layout](https://github.com/jakevdp/PythonDataScienceHandbook/blob/master/notebooks/figures/cint_vs_pyint.png?raw=1)"
   ]
  },
  {
   "cell_type": "markdown",
   "id": "190b4385-17f8-47a5-9bd1-0788e8e132f4",
   "metadata": {
    "id": "3IRjbpxuxA0R"
   },
   "source": [
    "Here ``PyObject_HEAD`` is the part of the structure containing the reference count, type code, and other pieces mentioned before.\n",
    "\n",
    "Notice the difference here: a C integer is essentially a label for a position in memory whose bytes encode an integer value.\n",
    "A Python integer is a pointer to a position in memory containing all the Python object information, including the bytes that contain the integer value.\n",
    "This extra information in the Python integer structure is what allows Python to be coded so freely and dynamically.\n",
    "All this additional information in Python types comes at a cost, however, which becomes especially apparent in structures that combine many of these objects."
   ]
  },
  {
   "cell_type": "markdown",
   "id": "f122358a-3843-4918-b735-f837bd75bd44",
   "metadata": {
    "id": "59WdcWQhxA0S"
   },
   "source": [
    "## A Python List Is More Than Just a List\n",
    "\n",
    "Let's consider now what happens when we use a Python data structure that holds many Python objects.\n",
    "The standard mutable multi-element container in Python is the list.\n",
    "We can create a list of integers as follows:"
   ]
  },
  {
   "cell_type": "code",
   "execution_count": null,
   "id": "6f85395b-ac4c-487f-926d-ca25cecc0f2c",
   "metadata": {
    "id": "6W79TwlcxA0T",
    "outputId": "0e5f3f75-5669-4081-c11b-9543bb7bb7b4"
   },
   "outputs": [],
   "source": [
    "L = list(range(10))\n",
    "L"
   ]
  },
  {
   "cell_type": "code",
   "execution_count": null,
   "id": "561d3cf3-cfdd-4a71-9c32-6d818fe02e4e",
   "metadata": {
    "id": "h4QZfy9dxA0W",
    "outputId": "25ff4a73-7161-4281-8727-f168a4503e93"
   },
   "outputs": [],
   "source": [
    "type(L[0])"
   ]
  },
  {
   "cell_type": "markdown",
   "id": "1400bf45-1347-45fb-b300-126267d16b27",
   "metadata": {
    "id": "e5fBxKszxA0X"
   },
   "source": [
    "Or, similarly, a list of strings:"
   ]
  },
  {
   "cell_type": "code",
   "execution_count": null,
   "id": "859e8693-d95d-471d-a9ea-9d45506c6c84",
   "metadata": {
    "id": "U8JMtGavxA0Y",
    "outputId": "74004714-6df7-4263-9896-604a06275d8f"
   },
   "outputs": [],
   "source": [
    "L2 = [str(c) for c in L]\n",
    "L2"
   ]
  },
  {
   "cell_type": "code",
   "execution_count": null,
   "id": "68fb270c-57da-4f93-85be-2af3ca1f2a68",
   "metadata": {
    "id": "doPD1pMtxA0Z",
    "outputId": "02317f1c-2fc0-430e-92ca-edca6c6c73a5"
   },
   "outputs": [],
   "source": [
    "type(L2[0])"
   ]
  },
  {
   "cell_type": "markdown",
   "id": "c5da30dd-66aa-46fa-818f-ac3e9f925581",
   "metadata": {
    "id": "bNT9VnBhxA0a"
   },
   "source": [
    "Because of Python's dynamic typing, we can even create heterogeneous lists:"
   ]
  },
  {
   "cell_type": "code",
   "execution_count": null,
   "id": "2b369c61-b6fa-4dca-b924-c2385b592db5",
   "metadata": {
    "id": "jqAdSuGvxA0a",
    "outputId": "49bfb971-0288-4538-9b22-4f50e74bef6c"
   },
   "outputs": [],
   "source": [
    "L3 = [True, \"2\", 3.0, 4]\n",
    "[type(item) for item in L3]"
   ]
  },
  {
   "cell_type": "markdown",
   "id": "47f92d7e-2e37-4845-804b-72541e6f2e33",
   "metadata": {
    "id": "DKRi8npTxA0b"
   },
   "source": [
    "But this flexibility comes at a cost: to allow these flexible types, each item in the list must contain its own type info, reference count, and other information–that is, each item is a complete Python object.\n",
    "In the special case that all variables are of the same type, much of this information is redundant: it can be much more efficient to store data in a fixed-type array.\n",
    "The difference between a dynamic-type list and a fixed-type (NumPy-style) array is illustrated in the following figure:"
   ]
  },
  {
   "cell_type": "markdown",
   "id": "1cd42f3d-0b1d-438e-be61-2b7c7f08a0ea",
   "metadata": {
    "id": "97tWtAm8xA0b"
   },
   "source": [
    "![Array Memory Layout](https://github.com/jakevdp/PythonDataScienceHandbook/blob/master/notebooks/figures/array_vs_list.png?raw=1)"
   ]
  },
  {
   "cell_type": "markdown",
   "id": "1b2f79cd-0198-4d63-8ace-8caffc8dfc11",
   "metadata": {
    "id": "peAa47amxA0b"
   },
   "source": [
    "At the implementation level, the array essentially contains a single pointer to one contiguous block of data.\n",
    "The Python list, on the other hand, contains a pointer to a block of pointers, each of which in turn points to a full Python object like the Python integer we saw earlier.\n",
    "Again, the advantage of the list is flexibility: because each list element is a full structure containing both data and type information, the list can be filled with data of any desired type.\n",
    "Fixed-type NumPy-style arrays lack this flexibility, but are much more efficient for storing and manipulating data."
   ]
  },
  {
   "cell_type": "markdown",
   "id": "6ca0a89f-bfa6-4a95-8e0d-7d294e555b1d",
   "metadata": {
    "id": "ST6VKnHTxA0c"
   },
   "source": [
    "## Fixed-Type Arrays in Python\n",
    "\n",
    "Python offers several different options for storing data in efficient, fixed-type data buffers.\n",
    "The built-in ``array`` module (available since Python 3.3) can be used to create dense arrays of a uniform type:"
   ]
  },
  {
   "cell_type": "code",
   "execution_count": null,
   "id": "ca6a909d-af1c-41e1-8f31-00f976c916cf",
   "metadata": {
    "id": "Ezaaz9JbxA0c",
    "outputId": "91cac5ff-804a-4555-c4c9-a3813bef53dc"
   },
   "outputs": [],
   "source": [
    "import array\n",
    "L = list(range(10))\n",
    "A = array.array('i', L)\n",
    "A"
   ]
  },
  {
   "cell_type": "markdown",
   "id": "a9ade13a-7732-49ad-919c-576e12551a0a",
   "metadata": {
    "id": "kWju1iR8xA0d"
   },
   "source": [
    "Here ``'i'`` is a type code indicating the contents are integers.\n",
    "\n",
    "Much more useful, however, is the ``ndarray`` object of the NumPy package.\n",
    "While Python's ``array`` object provides efficient storage of array-based data, NumPy adds to this efficient *operations* on that data.\n",
    "We will explore these operations in later sections; here we'll demonstrate several ways of creating a NumPy array.\n",
    "\n",
    "We'll start with the standard NumPy import, under the alias ``np``:"
   ]
  },
  {
   "cell_type": "code",
   "execution_count": null,
   "id": "0023b352-bbb3-4363-a1ca-6a855f4afbec",
   "metadata": {
    "id": "FnwfPnA9xA0d"
   },
   "outputs": [],
   "source": [
    "import numpy as np"
   ]
  },
  {
   "cell_type": "markdown",
   "id": "eed61888-998e-4fdf-af6c-773e48110d00",
   "metadata": {
    "id": "h300j5MmxA0d"
   },
   "source": [
    "## Creating Arrays from Python Lists\n",
    "\n",
    "First, we can use ``np.array`` to create arrays from Python lists:"
   ]
  },
  {
   "cell_type": "code",
   "execution_count": null,
   "id": "ba8034c5-de50-41ed-8f01-e7cbebe8a5cb",
   "metadata": {
    "id": "1yyYU0SzxA0d",
    "outputId": "36c52259-ff2a-4742-b342-509b0e7b7f52"
   },
   "outputs": [],
   "source": [
    "# integer array:\n",
    "np.array([1, 4, 2, 5, 3])"
   ]
  },
  {
   "cell_type": "markdown",
   "id": "9cb6a6f1-565b-4bab-8726-b7a04fb39393",
   "metadata": {
    "id": "yWo19NJsxA0e"
   },
   "source": [
    "Remember that unlike Python lists, NumPy is constrained to arrays that all contain the same type.\n",
    "If types do not match, NumPy will upcast if possible (here, integers are up-cast to floating point):"
   ]
  },
  {
   "cell_type": "code",
   "execution_count": null,
   "id": "58d10c6c-8021-4df6-b0aa-0b31991504ac",
   "metadata": {
    "id": "7WyMOsR-xA0e",
    "outputId": "e95cfb3f-4217-44d5-80da-268228bad91c"
   },
   "outputs": [],
   "source": [
    "np.array([3.14, 4, 2, 3])"
   ]
  },
  {
   "cell_type": "markdown",
   "id": "f222a935-13ce-4e7a-a5df-a35bf259aa68",
   "metadata": {
    "id": "9NkZQsYtxA0e"
   },
   "source": [
    "If we want to explicitly set the data type of the resulting array, we can use the ``dtype`` keyword:"
   ]
  },
  {
   "cell_type": "code",
   "execution_count": null,
   "id": "34498eb1-5f54-4038-9cf2-00fd71287940",
   "metadata": {
    "id": "minQ70ACxA0e",
    "outputId": "d563fd81-dbae-497c-8864-2415114d836f"
   },
   "outputs": [],
   "source": [
    "np.array([1, 2, 3, 4], dtype='float32')"
   ]
  },
  {
   "cell_type": "markdown",
   "id": "566f101f-4d7c-4b4c-b64b-a6db78785685",
   "metadata": {
    "id": "aQF3flj4xA0f"
   },
   "source": [
    "Finally, unlike Python lists, NumPy arrays can explicitly be multi-dimensional; here's one way of initializing a multidimensional array using a list of lists:"
   ]
  },
  {
   "cell_type": "code",
   "execution_count": null,
   "id": "1a09a1ed-c406-47f4-b483-7ab5be0fab50",
   "metadata": {
    "id": "HnxNBPETxA0f",
    "outputId": "eda744d3-d996-450b-9c79-e60fdb6698b3"
   },
   "outputs": [],
   "source": [
    "# nested lists result in multi-dimensional arrays\n",
    "np.array([range(i, i + 3) for i in [2, 4, 6]])"
   ]
  },
  {
   "cell_type": "markdown",
   "id": "8f090f66-3709-45db-bc29-30670b602057",
   "metadata": {
    "id": "gdKcvO2WxA0g"
   },
   "source": [
    "The inner lists are treated as rows of the resulting two-dimensional array."
   ]
  },
  {
   "cell_type": "markdown",
   "id": "4f2b4c8f-560a-42d9-b4a6-8acd1bb99134",
   "metadata": {
    "id": "3VnrjXz9xA0g"
   },
   "source": [
    "## Creating Arrays from Scratch\n",
    "\n",
    "Especially for larger arrays, it is more efficient to create arrays from scratch using routines built into NumPy.\n",
    "Here are several examples:"
   ]
  },
  {
   "cell_type": "code",
   "execution_count": null,
   "id": "e9689f22-4775-4951-b4e9-9b817faaa452",
   "metadata": {
    "id": "D1MLx2yhxA0g",
    "outputId": "e7870d10-bb79-4956-e980-ee5d00886bec"
   },
   "outputs": [],
   "source": [
    "# Create a length-10 integer array filled with zeros\n",
    "np.zeros(10, dtype=int)"
   ]
  },
  {
   "cell_type": "code",
   "execution_count": null,
   "id": "42b10fa1-e518-474c-9bb0-4bc8915ca2c7",
   "metadata": {
    "id": "X_MDFYiSxA0g",
    "outputId": "356546fd-0ffa-471f-8496-04b549fa6666"
   },
   "outputs": [],
   "source": [
    "# Create a 3x5 floating-point array filled with ones\n",
    "np.ones((3, 5), dtype=float)"
   ]
  },
  {
   "cell_type": "code",
   "execution_count": null,
   "id": "ea1e0dcb-2c12-45a9-a904-082bb94dbb97",
   "metadata": {
    "id": "PDufSTPsxA0g",
    "outputId": "de561ef3-f03f-42b9-e666-1701181d4db1"
   },
   "outputs": [],
   "source": [
    "# Create a 3x5 array filled with 3.14\n",
    "np.full((3, 5), 3.14)"
   ]
  },
  {
   "cell_type": "code",
   "execution_count": null,
   "id": "9a68a645-4fc5-4bdd-a141-46d74016c6ce",
   "metadata": {
    "id": "WKHjbZmQxA0h",
    "outputId": "707c44e2-0f6c-403b-b6b1-43eb4b011ec5"
   },
   "outputs": [],
   "source": [
    "# Create an array filled with a linear sequence\n",
    "# Starting at 0, ending at 20, stepping by 2\n",
    "# (this is similar to the built-in range() function)\n",
    "np.arange(0, 20, 2)"
   ]
  },
  {
   "cell_type": "code",
   "execution_count": null,
   "id": "902af8f5-288d-4158-abfa-2754ada57ef3",
   "metadata": {
    "id": "6hwojcibxA0h",
    "outputId": "ca9fc516-3116-4b8d-9987-962a7abff31c"
   },
   "outputs": [],
   "source": [
    "# Create an array of five values evenly spaced between 0 and 1\n",
    "np.linspace(0, 1, 5)"
   ]
  },
  {
   "cell_type": "code",
   "execution_count": null,
   "id": "daaa06c0-4960-4504-a165-b23744b9ee99",
   "metadata": {
    "id": "cDFtHv-zxA0h",
    "outputId": "0fd8f030-723a-4156-d9ed-6ae5208b75fb"
   },
   "outputs": [],
   "source": [
    "# Create a 3x3 array of uniformly distributed\n",
    "# random values between 0 and 1\n",
    "np.random.random((3, 3))"
   ]
  },
  {
   "cell_type": "code",
   "execution_count": null,
   "id": "3680d110-f056-4365-9d30-4b8938748e65",
   "metadata": {
    "id": "NYxpcZU8xA0i",
    "outputId": "2a6dc232-c7d4-4a77-aee5-e032b7dc7302"
   },
   "outputs": [],
   "source": [
    "# Create a 3x3 array of normally distributed random values\n",
    "# with mean 0 and standard deviation 1\n",
    "np.random.normal(0, 1, (3, 3))"
   ]
  },
  {
   "cell_type": "code",
   "execution_count": null,
   "id": "49df61ae-85de-4225-ad01-c4a753e9278d",
   "metadata": {
    "id": "1eXvO7tRxA0i",
    "outputId": "21c5b2fb-7160-4e59-b7c3-f88bb83e0abd"
   },
   "outputs": [],
   "source": [
    "# Create a 3x3 array of random integers in the interval [0, 10)\n",
    "np.random.randint(0, 10, (3, 3))"
   ]
  },
  {
   "cell_type": "code",
   "execution_count": null,
   "id": "5d65b0fe-0b2f-405f-9fcb-3123826be2eb",
   "metadata": {
    "id": "LJFSIxPOxA0i",
    "outputId": "f70aff97-b731-4cef-b45c-df28524e2621"
   },
   "outputs": [],
   "source": [
    "# Create a 3x3 identity matrix\n",
    "np.eye(3)"
   ]
  },
  {
   "cell_type": "code",
   "execution_count": null,
   "id": "bb50a527-42fc-41b5-a574-04400520c17d",
   "metadata": {
    "id": "PtSrdl8GxA0j",
    "outputId": "0ff9eaf9-8f18-4803-f29b-a67cb14635b6"
   },
   "outputs": [],
   "source": [
    "# Create an uninitialized array of three integers\n",
    "# The values will be whatever happens to already exist at that memory location\n",
    "np.empty(3)"
   ]
  },
  {
   "cell_type": "markdown",
   "id": "c55bf213-785d-41ce-8e13-ff63b7554093",
   "metadata": {
    "id": "Lff97Nb5xA0j"
   },
   "source": [
    "## NumPy Standard Data Types\n",
    "\n",
    "NumPy arrays contain values of a single type, so it is important to have detailed knowledge of those types and their limitations.\n",
    "Because NumPy is built in C, the types will be familiar to users of C, Fortran, and other related languages.\n",
    "\n",
    "The standard NumPy data types are listed in the following table.\n",
    "Note that when constructing an array, they can be specified using a string:\n",
    "\n",
    "```python\n",
    "np.zeros(10, dtype='int16')\n",
    "```\n",
    "\n",
    "Or using the associated NumPy object:\n",
    "\n",
    "```python\n",
    "np.zeros(10, dtype=np.int16)\n",
    "```"
   ]
  },
  {
   "cell_type": "markdown",
   "id": "71fc645a-df71-4a8a-ba84-b3a0f46854db",
   "metadata": {
    "id": "LK-Hx-iKxA0j"
   },
   "source": [
    "| Data type\t    | Description |\n",
    "|---------------|-------------|\n",
    "| ``bool_``     | Boolean (True or False) stored as a byte |\n",
    "| ``int_``      | Default integer type (same as C ``long``; normally either ``int64`` or ``int32``)| \n",
    "| ``intc``      | Identical to C ``int`` (normally ``int32`` or ``int64``)| \n",
    "| ``intp``      | Integer used for indexing (same as C ``ssize_t``; normally either ``int32`` or ``int64``)| \n",
    "| ``int8``      | Byte (-128 to 127)| \n",
    "| ``int16``     | Integer (-32768 to 32767)|\n",
    "| ``int32``     | Integer (-2147483648 to 2147483647)|\n",
    "| ``int64``     | Integer (-9223372036854775808 to 9223372036854775807)| \n",
    "| ``uint8``     | Unsigned integer (0 to 255)| \n",
    "| ``uint16``    | Unsigned integer (0 to 65535)| \n",
    "| ``uint32``    | Unsigned integer (0 to 4294967295)| \n",
    "| ``uint64``    | Unsigned integer (0 to 18446744073709551615)| \n",
    "| ``float_``    | Shorthand for ``float64``.| \n",
    "| ``float16``   | Half precision float: sign bit, 5 bits exponent, 10 bits mantissa| \n",
    "| ``float32``   | Single precision float: sign bit, 8 bits exponent, 23 bits mantissa| \n",
    "| ``float64``   | Double precision float: sign bit, 11 bits exponent, 52 bits mantissa| \n",
    "| ``complex_``  | Shorthand for ``complex128``.| \n",
    "| ``complex64`` | Complex number, represented by two 32-bit floats| \n",
    "| ``complex128``| Complex number, represented by two 64-bit floats| "
   ]
  },
  {
   "cell_type": "code",
   "execution_count": null,
   "id": "119c9b16-3e89-4e23-b677-72bf866a853b",
   "metadata": {},
   "outputs": [],
   "source": []
  },
  {
   "cell_type": "code",
   "execution_count": null,
   "id": "30471869-13b3-4308-becc-26b46ab5f844",
   "metadata": {},
   "outputs": [],
   "source": []
  },
  {
   "cell_type": "code",
   "execution_count": null,
   "id": "b6333006-c05f-4654-a71f-9a1fa5e7ca8a",
   "metadata": {},
   "outputs": [],
   "source": []
  },
  {
   "cell_type": "markdown",
   "id": "33c22f3a-9715-4974-93a5-0ab43500a0fc",
   "metadata": {
    "id": "6ADrSLnNxmcl",
    "tags": []
   },
   "source": [
    "# Aggregations: Min, Max, and Everything In Between"
   ]
  },
  {
   "cell_type": "markdown",
   "id": "e5792fc6-ad18-4572-bd2d-d5e275b61069",
   "metadata": {
    "id": "XNwA6iUnxmcm"
   },
   "source": [
    "Often when faced with a large amount of data, a first step is to compute summary statistics for the data in question.\n",
    "Perhaps the most common summary statistics are the mean and standard deviation, which allow you to summarize the \"typical\" values in a dataset, but other aggregates are useful as well (the sum, product, median, minimum and maximum, quantiles, etc.).\n",
    "\n",
    "NumPy has fast built-in aggregation functions for working on arrays; we'll discuss and demonstrate some of them here."
   ]
  },
  {
   "cell_type": "markdown",
   "id": "0a5787ab-7651-4643-9b6d-4fe80780ddef",
   "metadata": {
    "id": "QOeJaxg-xmcn"
   },
   "source": [
    "## Summing the Values in an Array\n",
    "\n",
    "As a quick example, consider computing the sum of all values in an array.\n",
    "Python itself can do this using the built-in ``sum`` function:"
   ]
  },
  {
   "cell_type": "code",
   "execution_count": null,
   "id": "1c15dfe6-e3fd-4473-8dbb-a1aba44f6d11",
   "metadata": {
    "id": "8hMmD-qVxmcn"
   },
   "outputs": [],
   "source": [
    "import numpy as np"
   ]
  },
  {
   "cell_type": "code",
   "execution_count": null,
   "id": "14e8b636-0757-4de9-af2c-f6c16cbac999",
   "metadata": {
    "id": "fH8wGeeoxmcq",
    "outputId": "e626dea1-a3d1-432e-a2f9-d573a871a99d"
   },
   "outputs": [],
   "source": [
    "L = np.random.random(100)\n",
    "sum(L)"
   ]
  },
  {
   "cell_type": "markdown",
   "id": "e61f6464-6320-4625-8d86-0ef052acf5dd",
   "metadata": {
    "id": "POP2GOMnxmcs"
   },
   "source": [
    "The syntax is quite similar to that of NumPy's ``sum`` function, and the result is the same in the simplest case:"
   ]
  },
  {
   "cell_type": "code",
   "execution_count": null,
   "id": "e9512745-91eb-435c-a9a6-54f224a11c09",
   "metadata": {
    "id": "ErmUL7zVxmct",
    "outputId": "80d12620-8173-4c8a-f134-12f6121fc7f3"
   },
   "outputs": [],
   "source": [
    "np.sum(L)"
   ]
  },
  {
   "cell_type": "markdown",
   "id": "41451b10-14b5-4802-9109-d947cb136735",
   "metadata": {
    "id": "Lh5AYCzAxmc4"
   },
   "source": [
    "However, because it executes the operation in compiled code, NumPy's version of the operation is computed much more quickly:"
   ]
  },
  {
   "cell_type": "code",
   "execution_count": null,
   "id": "260ab2f1-860c-46e4-b500-23caac623a4d",
   "metadata": {
    "id": "mW9CQPclxmc5",
    "outputId": "21f36ada-ffb9-4994-d141-730e1d8c1a20"
   },
   "outputs": [],
   "source": [
    "big_array = np.random.rand(1000000)\n",
    "%timeit sum(big_array)\n",
    "%timeit np.sum(big_array)"
   ]
  },
  {
   "cell_type": "markdown",
   "id": "da7f42a3-5cb0-4dc2-b925-1dfbcdb28905",
   "metadata": {
    "id": "2APn8zY9xmc6"
   },
   "source": [
    "Be careful, though: the ``sum`` function and the ``np.sum`` function are not identical, which can sometimes lead to confusion!\n",
    "In particular, their optional arguments have different meanings, and ``np.sum`` is aware of multiple array dimensions, as we will see in the following section."
   ]
  },
  {
   "cell_type": "markdown",
   "id": "6e4816eb-02e8-490a-9489-d0b6515af382",
   "metadata": {
    "id": "1oQMnpWZxmc7"
   },
   "source": [
    "## Minimum and Maximum\n",
    "\n",
    "Similarly, Python has built-in ``min`` and ``max`` functions, used to find the minimum value and maximum value of any given array:"
   ]
  },
  {
   "cell_type": "code",
   "execution_count": null,
   "id": "3e706098-b431-4453-a52f-cd5f2dd59472",
   "metadata": {
    "id": "bMJFadu_xmc7",
    "outputId": "fa6dad84-5794-448a-f91a-436551f3ed0d"
   },
   "outputs": [],
   "source": [
    "min(big_array), max(big_array)"
   ]
  },
  {
   "cell_type": "markdown",
   "id": "b827e24a-5360-48b0-b8c1-55e1c39b8161",
   "metadata": {
    "id": "S-3hfMuGxmc8"
   },
   "source": [
    "NumPy's corresponding functions have similar syntax, and again operate much more quickly:"
   ]
  },
  {
   "cell_type": "code",
   "execution_count": null,
   "id": "948fdb28-c583-4397-817d-d2a81674b5fd",
   "metadata": {
    "id": "PY4QyLZuxmc8",
    "outputId": "9ea6b248-422b-489e-cbcd-510330999797"
   },
   "outputs": [],
   "source": [
    "np.min(big_array), np.max(big_array)"
   ]
  },
  {
   "cell_type": "code",
   "execution_count": null,
   "id": "cef0ba1a-1eb6-4f99-91de-7fe4220913a4",
   "metadata": {
    "id": "Oq7Mja11xmc8",
    "outputId": "2eef82bd-e963-482b-a152-5a6c57f45030"
   },
   "outputs": [],
   "source": [
    "%timeit min(big_array)\n",
    "%timeit np.min(big_array)"
   ]
  },
  {
   "cell_type": "markdown",
   "id": "caa4036a-0fdb-4753-a8d6-ee4b5bc9f30f",
   "metadata": {
    "id": "7qAv-lxBxmc9"
   },
   "source": [
    "For ``min``, ``max``, ``sum``, and several other NumPy aggregates, a shorter syntax is to use methods of the array object itself:"
   ]
  },
  {
   "cell_type": "code",
   "execution_count": null,
   "id": "4fdd767c-cb7d-4494-a624-275702bd79f9",
   "metadata": {
    "id": "lfN_RAmQxmc9",
    "outputId": "823949c7-af7c-4d1c-9e96-2d21317581f1"
   },
   "outputs": [],
   "source": [
    "print(big_array.min(), big_array.max(), big_array.sum())"
   ]
  },
  {
   "cell_type": "markdown",
   "id": "f1d43794-942e-4043-ad75-8f891589684b",
   "metadata": {
    "id": "0_vv4syLxmc-"
   },
   "source": [
    "Whenever possible, make sure that you are using the NumPy version of these aggregates when operating on NumPy arrays!"
   ]
  },
  {
   "cell_type": "markdown",
   "id": "827411fe-04ba-4413-bc6c-6d9f1c14ea7e",
   "metadata": {
    "id": "dbu3_Gadxmc-"
   },
   "source": [
    "### Multi dimensional aggregates\n",
    "\n",
    "One common type of aggregation operation is an aggregate along a row or column.\n",
    "Say you have some data stored in a two-dimensional array:"
   ]
  },
  {
   "cell_type": "code",
   "execution_count": null,
   "id": "297bd032-f779-4d32-8b00-46c0c7dc30b9",
   "metadata": {
    "id": "gAfRSaBJxmc-",
    "outputId": "9e2a5463-0cb5-4114-dc70-33413fa41c4b"
   },
   "outputs": [],
   "source": [
    "M = np.random.random((3, 4))\n",
    "print(M)"
   ]
  },
  {
   "cell_type": "markdown",
   "id": "424e21f2-1e7a-4767-8f96-f4c533a9394c",
   "metadata": {
    "id": "BNjF1XCqxmc_"
   },
   "source": [
    "By default, each NumPy aggregation function will return the aggregate over the entire array:"
   ]
  },
  {
   "cell_type": "code",
   "execution_count": null,
   "id": "88525850-fee8-4bbc-a05f-093890174ad1",
   "metadata": {
    "id": "RbsJAD6gxmc_",
    "outputId": "e73f9bd6-8b94-4f2e-87db-b052721e9ae7"
   },
   "outputs": [],
   "source": [
    "M.sum()"
   ]
  },
  {
   "cell_type": "markdown",
   "id": "d6b20031-c0da-43e1-90c1-3f95cb4d0621",
   "metadata": {
    "id": "47O1q6VCxmdA"
   },
   "source": [
    "Aggregation functions take an additional argument specifying the *axis* along which the aggregate is computed. For example, we can find the minimum value within each column by specifying ``axis=0``:"
   ]
  },
  {
   "cell_type": "code",
   "execution_count": null,
   "id": "156d48de-225a-4013-b839-c08da5e0db0b",
   "metadata": {
    "id": "_1ub4wnJxmdA",
    "outputId": "5d2515f6-9716-4e6f-adee-a934ea9abe8a"
   },
   "outputs": [],
   "source": [
    "M.min(axis=0)"
   ]
  },
  {
   "cell_type": "markdown",
   "id": "cb6bbba2-c7da-467f-ada6-7b6036685942",
   "metadata": {
    "id": "-9-JjG_ExmdA"
   },
   "source": [
    "The function returns four values, corresponding to the four columns of numbers.\n",
    "\n",
    "Similarly, we can find the maximum value within each row:"
   ]
  },
  {
   "cell_type": "code",
   "execution_count": null,
   "id": "c6ad483c-037f-4640-b3e2-02760556b574",
   "metadata": {
    "id": "WmkFjhk2xmdB",
    "outputId": "697fcb1a-39b4-4260-97c1-ab8c027e0e47"
   },
   "outputs": [],
   "source": [
    "M.max(axis=1)"
   ]
  },
  {
   "cell_type": "markdown",
   "id": "81cf74ba-b906-4194-9048-6765bbf03648",
   "metadata": {
    "id": "R-jI4RhXxmdB"
   },
   "source": [
    "The way the axis is specified here can be confusing to users coming from other languages.\n",
    "The ``axis`` keyword specifies the *dimension of the array that will be collapsed*, rather than the dimension that will be returned.\n",
    "So specifying ``axis=0`` means that the first axis will be collapsed: for two-dimensional arrays, this means that values within each column will be aggregated."
   ]
  },
  {
   "cell_type": "markdown",
   "id": "61185b49-d4d6-4bf9-bc15-382dd0296508",
   "metadata": {
    "id": "DcdWiYFWxmdB"
   },
   "source": [
    "### Other aggregation functions\n",
    "\n",
    "NumPy provides many other aggregation functions, but we won't discuss them in detail here.\n",
    "Additionally, most aggregates have a ``NaN``-safe counterpart that computes the result while ignoring missing values, which are marked by the special IEEE floating-point ``NaN`` value (for a fuller discussion of missing data, see [Handling Missing Data](03.04-Missing-Values.ipynb)).\n",
    "Some of these ``NaN``-safe functions were not added until NumPy 1.8, so they will not be available in older NumPy versions.\n",
    "\n",
    "The following table provides a list of useful aggregation functions available in NumPy:\n",
    "\n",
    "|Function Name      |   NaN-safe Version  | Description                                   |\n",
    "|-------------------|---------------------|-----------------------------------------------|\n",
    "| ``np.sum``        | ``np.nansum``       | Compute sum of elements                       |\n",
    "| ``np.prod``       | ``np.nanprod``      | Compute product of elements                   |\n",
    "| ``np.mean``       | ``np.nanmean``      | Compute mean of elements                      |\n",
    "| ``np.std``        | ``np.nanstd``       | Compute standard deviation                    |\n",
    "| ``np.var``        | ``np.nanvar``       | Compute variance                              |\n",
    "| ``np.min``        | ``np.nanmin``       | Find minimum value                            |\n",
    "| ``np.max``        | ``np.nanmax``       | Find maximum value                            |\n",
    "| ``np.argmin``     | ``np.nanargmin``    | Find index of minimum value                   |\n",
    "| ``np.argmax``     | ``np.nanargmax``    | Find index of maximum value                   |\n",
    "| ``np.median``     | ``np.nanmedian``    | Compute median of elements                    |\n",
    "| ``np.percentile`` | ``np.nanpercentile``| Compute rank-based statistics of elements     |\n",
    "| ``np.any``        | N/A                 | Evaluate whether any elements are true        |\n",
    "| ``np.all``        | N/A                 | Evaluate whether all elements are true        |\n",
    "\n",
    "We will see these aggregates often throughout the rest of the book."
   ]
  },
  {
   "cell_type": "markdown",
   "id": "11b6240d-91e0-4b68-9f74-681aa50262c2",
   "metadata": {
    "id": "-dWWV5d1xmdD"
   },
   "source": [
    "## Example: What is the Average Height of US Presidents?"
   ]
  },
  {
   "cell_type": "markdown",
   "id": "65cf85cf-b9d2-4655-9950-fece6abd0fdd",
   "metadata": {
    "id": "8MOgYzbnxmdE"
   },
   "source": [
    "Aggregates available in NumPy can be extremely useful for summarizing a set of values.\n",
    "As a simple example, let's consider the heights of all US presidents.\n",
    "This data is available in the file *president_heights.csv*, which is a simple comma-separated list of labels and values:"
   ]
  },
  {
   "cell_type": "code",
   "execution_count": null,
   "id": "0dcf2b1b-759b-4eae-b76d-cd720cb0c450",
   "metadata": {
    "id": "FXthhAiGxmdF",
    "outputId": "6b3ebf1a-e061-40fe-f2df-62a2a72492c1"
   },
   "outputs": [],
   "source": [
    "!head -4 data/president_heights.csv"
   ]
  },
  {
   "cell_type": "markdown",
   "id": "dc2c29e2-cd8c-401f-afc1-520584602334",
   "metadata": {
    "id": "5gdu-COMxmdG"
   },
   "source": [
    "We'll use the Pandas package, which we'll explore more fully in [Chapter 3](03.00-Introduction-to-Pandas.ipynb), to read the file and extract this information (note that the heights are measured in centimeters)."
   ]
  },
  {
   "cell_type": "code",
   "execution_count": null,
   "id": "4339092b-368a-40fd-8f10-bd2ed954b40d",
   "metadata": {
    "id": "GSYf8id6xmdG",
    "outputId": "4c3b3543-d560-43bf-bf0b-2d09085bd85f"
   },
   "outputs": [],
   "source": [
    "import pandas as pd\n",
    "data = pd.read_csv('data/president_heights.csv')\n",
    "heights = np.array(data['height(cm)'])\n",
    "print(heights)"
   ]
  },
  {
   "cell_type": "markdown",
   "id": "0343ebec-c758-4121-ae28-a394d11f0abc",
   "metadata": {
    "id": "NpZJwClmxmdG"
   },
   "source": [
    "Now that we have this data array, we can compute a variety of summary statistics:"
   ]
  },
  {
   "cell_type": "code",
   "execution_count": null,
   "id": "5a1e55c7-4e20-42e3-8769-6bba8f46e794",
   "metadata": {
    "id": "OVLU07eWxmdH",
    "outputId": "df62bd5b-cc20-4ac8-8ed5-2cfec403e671"
   },
   "outputs": [],
   "source": [
    "print(\"Mean height:       \", heights.mean())\n",
    "print(\"Standard deviation:\", heights.std())\n",
    "print(\"Minimum height:    \", heights.min())\n",
    "print(\"Maximum height:    \", heights.max())"
   ]
  },
  {
   "cell_type": "markdown",
   "id": "272149f4-bcda-4b78-a38e-32bcbc1b0a4a",
   "metadata": {
    "id": "kO6F6xIwxmdH"
   },
   "source": [
    "Note that in each case, the aggregation operation reduced the entire array to a single summarizing value, which gives us information about the distribution of values.\n",
    "We may also wish to compute quantiles:"
   ]
  },
  {
   "cell_type": "code",
   "execution_count": null,
   "id": "b130561f-7e62-4485-ab39-8029f319abdb",
   "metadata": {
    "id": "XE3nWCi-xmdH",
    "outputId": "d1a55adf-bc92-4842-ccba-aadb53b0c613"
   },
   "outputs": [],
   "source": [
    "print(\"25th percentile:   \", np.percentile(heights, 25))\n",
    "print(\"Median:            \", np.median(heights))\n",
    "print(\"75th percentile:   \", np.percentile(heights, 75))"
   ]
  }
 ],
 "metadata": {
  "kernelspec": {
   "display_name": "Python 3 (ipykernel)",
   "language": "python",
   "name": "python3"
  },
  "language_info": {
   "codemirror_mode": {
    "name": "ipython",
    "version": 3
   },
   "file_extension": ".py",
   "mimetype": "text/x-python",
   "name": "python",
   "nbconvert_exporter": "python",
   "pygments_lexer": "ipython3",
   "version": "3.8.13"
  },
  "toc-autonumbering": true
 },
 "nbformat": 4,
 "nbformat_minor": 5
}
